{
 "cells": [
  {
   "cell_type": "markdown",
   "metadata": {},
   "source": [
    "# Ford GoBike Trip Data Exploration\n",
    "#### by Keerthana Manoharan\n",
    "\n",
    "## Preliminary Wrangling\n",
    "\n",
    "The dataset includes information about individual rides made in a bike-sharing system covering the greater San Francisco Bay area of the ford gobike for the year 2018.\n",
    "\n",
    "This document explores the dataset gathered.\n",
    "\n",
    "### Table of contents:\n",
    "- <a style=\"text-decoration: none\" href=\"#gather\">Data Gathering</a>\n",
    "- <a style=\"text-decoration: none\" href=\"#clean\">Data Cleaning</a>\n",
    "- <a style=\"text-decoration: none\" href=\"#explore\">Data Exploration</a>\n",
    "    - <a style=\"text-decoration: none\" href=\"#uni\">Univariate Exploration</a>\n",
    "    - <a style=\"text-decoration: none\" href=\"#bi\">Bivariate Exploration</a>\n",
    "    - <a style=\"text-decoration: none\" href=\"#multi\">Multivariate Exploration</a>"
   ]
  },
  {
   "cell_type": "code",
   "execution_count": 264,
   "metadata": {},
   "outputs": [],
   "source": [
    "# import all packages and set plots to be embedded inline\n",
    "import numpy as np\n",
    "import pandas as pd\n",
    "import datetime as dt\n",
    "import matplotlib.pyplot as plt\n",
    "import seaborn as sns\n",
    "\n",
    "%matplotlib inline"
   ]
  },
  {
   "cell_type": "markdown",
   "metadata": {},
   "source": [
    "<a id=\"gather\"></a>\n",
    "\n",
    "## Data Gathering\n",
    "\n",
    "Ford GoBike is a publicly available dataset and can be downloaded from [here](https://s3.amazonaws.com/fordgobike-data/index.html)\n",
    "\n",
    "For this analysis, I have downloaded 2018 datasets, which are 12 CSVs for each month.\n",
    "\n",
    "**Brief description about the data :**\n",
    "- Trip Duration (seconds)\n",
    "- Start Time and Date\n",
    "- End Time and Date\n",
    "- Start Station ID\n",
    "- Start Station Name\n",
    "- Start Station Latitude\n",
    "- Start Station Longitude\n",
    "- End Station ID\n",
    "- End Station Name\n",
    "- End Station Latitude\n",
    "- End Station Longitude\n",
    "- Bike ID\n",
    "- User Type (“Subscriber” = Member or “Customer” = Casual)\n",
    "- Member Year of Birth\n",
    "- Member Gender\n",
    "- Bike Share for all Trip"
   ]
  },
  {
   "cell_type": "code",
   "execution_count": 4,
   "metadata": {},
   "outputs": [],
   "source": [
    "# List of file names downloaded are 1,2,3,4,5,6,7,8,9,10,11,12 indicating respective month\n",
    "# create empty dataframe\n",
    "df = pd.DataFrame()\n",
    "\n",
    "# Loop for reading each file and appending it to the master dataframe\n",
    "for i in range(1,13):\n",
    "    # load in your dataset into the dataframe\n",
    "    df = df.append(pd.read_csv('data/'+str(i)+'.csv', encoding='utf-8'))"
   ]
  },
  {
   "cell_type": "code",
   "execution_count": 9,
   "metadata": {},
   "outputs": [],
   "source": [
    "# Save the master dataset into csv file\n",
    "df.to_csv('data/fordgobike_tripdata.csv', encoding='utf-8', index=False)"
   ]
  },
  {
   "cell_type": "code",
   "execution_count": 2,
   "metadata": {},
   "outputs": [],
   "source": [
    "# Read from master dataset\n",
    "df = pd.read_csv('data/fordgobike_tripdata.csv', encoding='utf-8')"
   ]
  },
  {
   "cell_type": "code",
   "execution_count": 3,
   "metadata": {},
   "outputs": [
    {
     "data": {
      "text/html": [
       "<div>\n",
       "<style scoped>\n",
       "    .dataframe tbody tr th:only-of-type {\n",
       "        vertical-align: middle;\n",
       "    }\n",
       "\n",
       "    .dataframe tbody tr th {\n",
       "        vertical-align: top;\n",
       "    }\n",
       "\n",
       "    .dataframe thead th {\n",
       "        text-align: right;\n",
       "    }\n",
       "</style>\n",
       "<table border=\"1\" class=\"dataframe\">\n",
       "  <thead>\n",
       "    <tr style=\"text-align: right;\">\n",
       "      <th></th>\n",
       "      <th>duration_sec</th>\n",
       "      <th>start_time</th>\n",
       "      <th>end_time</th>\n",
       "      <th>start_station_id</th>\n",
       "      <th>start_station_name</th>\n",
       "      <th>start_station_latitude</th>\n",
       "      <th>start_station_longitude</th>\n",
       "      <th>end_station_id</th>\n",
       "      <th>end_station_name</th>\n",
       "      <th>end_station_latitude</th>\n",
       "      <th>end_station_longitude</th>\n",
       "      <th>bike_id</th>\n",
       "      <th>user_type</th>\n",
       "      <th>member_birth_year</th>\n",
       "      <th>member_gender</th>\n",
       "      <th>bike_share_for_all_trip</th>\n",
       "    </tr>\n",
       "  </thead>\n",
       "  <tbody>\n",
       "    <tr>\n",
       "      <th>1682378</th>\n",
       "      <td>688</td>\n",
       "      <td>2018-11-08 17:52:27.7440</td>\n",
       "      <td>2018-11-08 18:03:56.6890</td>\n",
       "      <td>181.0</td>\n",
       "      <td>Grand Ave at Webster St</td>\n",
       "      <td>37.811377</td>\n",
       "      <td>-122.265192</td>\n",
       "      <td>192.0</td>\n",
       "      <td>37th St at West St</td>\n",
       "      <td>37.826696</td>\n",
       "      <td>-122.271797</td>\n",
       "      <td>3702</td>\n",
       "      <td>Subscriber</td>\n",
       "      <td>1994.0</td>\n",
       "      <td>Male</td>\n",
       "      <td>Yes</td>\n",
       "    </tr>\n",
       "    <tr>\n",
       "      <th>320893</th>\n",
       "      <td>497</td>\n",
       "      <td>2018-04-29 14:17:03.3650</td>\n",
       "      <td>2018-04-29 14:25:20.9340</td>\n",
       "      <td>5.0</td>\n",
       "      <td>Powell St BART Station (Market St at 5th St)</td>\n",
       "      <td>37.783899</td>\n",
       "      <td>-122.408445</td>\n",
       "      <td>86.0</td>\n",
       "      <td>Market St at Dolores St</td>\n",
       "      <td>37.769305</td>\n",
       "      <td>-122.426826</td>\n",
       "      <td>3903</td>\n",
       "      <td>Customer</td>\n",
       "      <td>1992.0</td>\n",
       "      <td>Female</td>\n",
       "      <td>No</td>\n",
       "    </tr>\n",
       "    <tr>\n",
       "      <th>1779498</th>\n",
       "      <td>333</td>\n",
       "      <td>2018-12-18 14:05:40.6950</td>\n",
       "      <td>2018-12-18 14:11:14.3600</td>\n",
       "      <td>20.0</td>\n",
       "      <td>Mechanics Monument Plaza (Market St at Bush St)</td>\n",
       "      <td>37.791300</td>\n",
       "      <td>-122.399051</td>\n",
       "      <td>3.0</td>\n",
       "      <td>Powell St BART Station (Market St at 4th St)</td>\n",
       "      <td>37.786375</td>\n",
       "      <td>-122.404904</td>\n",
       "      <td>793</td>\n",
       "      <td>Subscriber</td>\n",
       "      <td>1996.0</td>\n",
       "      <td>Male</td>\n",
       "      <td>No</td>\n",
       "    </tr>\n",
       "    <tr>\n",
       "      <th>1101644</th>\n",
       "      <td>382</td>\n",
       "      <td>2018-08-18 09:48:15.7600</td>\n",
       "      <td>2018-08-18 09:54:38.2670</td>\n",
       "      <td>113.0</td>\n",
       "      <td>Franklin Square</td>\n",
       "      <td>37.764555</td>\n",
       "      <td>-122.410345</td>\n",
       "      <td>109.0</td>\n",
       "      <td>17th St at Valencia St</td>\n",
       "      <td>37.763316</td>\n",
       "      <td>-122.421904</td>\n",
       "      <td>373</td>\n",
       "      <td>Subscriber</td>\n",
       "      <td>1985.0</td>\n",
       "      <td>Female</td>\n",
       "      <td>No</td>\n",
       "    </tr>\n",
       "    <tr>\n",
       "      <th>1668596</th>\n",
       "      <td>1373</td>\n",
       "      <td>2018-11-12 08:26:43.1460</td>\n",
       "      <td>2018-11-12 08:49:36.3890</td>\n",
       "      <td>71.0</td>\n",
       "      <td>Broderick St at Oak St</td>\n",
       "      <td>37.773063</td>\n",
       "      <td>-122.439078</td>\n",
       "      <td>81.0</td>\n",
       "      <td>Berry St at 4th St</td>\n",
       "      <td>37.775880</td>\n",
       "      <td>-122.393170</td>\n",
       "      <td>290</td>\n",
       "      <td>Subscriber</td>\n",
       "      <td>1987.0</td>\n",
       "      <td>Female</td>\n",
       "      <td>No</td>\n",
       "    </tr>\n",
       "  </tbody>\n",
       "</table>\n",
       "</div>"
      ],
      "text/plain": [
       "         duration_sec                start_time                  end_time  \\\n",
       "1682378           688  2018-11-08 17:52:27.7440  2018-11-08 18:03:56.6890   \n",
       "320893            497  2018-04-29 14:17:03.3650  2018-04-29 14:25:20.9340   \n",
       "1779498           333  2018-12-18 14:05:40.6950  2018-12-18 14:11:14.3600   \n",
       "1101644           382  2018-08-18 09:48:15.7600  2018-08-18 09:54:38.2670   \n",
       "1668596          1373  2018-11-12 08:26:43.1460  2018-11-12 08:49:36.3890   \n",
       "\n",
       "         start_station_id                               start_station_name  \\\n",
       "1682378             181.0                          Grand Ave at Webster St   \n",
       "320893                5.0     Powell St BART Station (Market St at 5th St)   \n",
       "1779498              20.0  Mechanics Monument Plaza (Market St at Bush St)   \n",
       "1101644             113.0                                  Franklin Square   \n",
       "1668596              71.0                           Broderick St at Oak St   \n",
       "\n",
       "         start_station_latitude  start_station_longitude  end_station_id  \\\n",
       "1682378               37.811377              -122.265192           192.0   \n",
       "320893                37.783899              -122.408445            86.0   \n",
       "1779498               37.791300              -122.399051             3.0   \n",
       "1101644               37.764555              -122.410345           109.0   \n",
       "1668596               37.773063              -122.439078            81.0   \n",
       "\n",
       "                                     end_station_name  end_station_latitude  \\\n",
       "1682378                            37th St at West St             37.826696   \n",
       "320893                        Market St at Dolores St             37.769305   \n",
       "1779498  Powell St BART Station (Market St at 4th St)             37.786375   \n",
       "1101644                        17th St at Valencia St             37.763316   \n",
       "1668596                            Berry St at 4th St             37.775880   \n",
       "\n",
       "         end_station_longitude  bike_id   user_type  member_birth_year  \\\n",
       "1682378            -122.271797     3702  Subscriber             1994.0   \n",
       "320893             -122.426826     3903    Customer             1992.0   \n",
       "1779498            -122.404904      793  Subscriber             1996.0   \n",
       "1101644            -122.421904      373  Subscriber             1985.0   \n",
       "1668596            -122.393170      290  Subscriber             1987.0   \n",
       "\n",
       "        member_gender bike_share_for_all_trip  \n",
       "1682378          Male                     Yes  \n",
       "320893         Female                      No  \n",
       "1779498          Male                      No  \n",
       "1101644        Female                      No  \n",
       "1668596        Female                      No  "
      ]
     },
     "execution_count": 3,
     "metadata": {},
     "output_type": "execute_result"
    }
   ],
   "source": [
    "# display few records randomly \n",
    "df.sample(5)"
   ]
  },
  {
   "cell_type": "code",
   "execution_count": 4,
   "metadata": {},
   "outputs": [
    {
     "data": {
      "text/plain": [
       "(1863721, 16)"
      ]
     },
     "execution_count": 4,
     "metadata": {},
     "output_type": "execute_result"
    }
   ],
   "source": [
    "# structure of the dataset\n",
    "df.shape"
   ]
  },
  {
   "cell_type": "code",
   "execution_count": 5,
   "metadata": {},
   "outputs": [
    {
     "name": "stdout",
     "output_type": "stream",
     "text": [
      "<class 'pandas.core.frame.DataFrame'>\n",
      "RangeIndex: 1863721 entries, 0 to 1863720\n",
      "Data columns (total 16 columns):\n",
      " #   Column                   Dtype  \n",
      "---  ------                   -----  \n",
      " 0   duration_sec             int64  \n",
      " 1   start_time               object \n",
      " 2   end_time                 object \n",
      " 3   start_station_id         float64\n",
      " 4   start_station_name       object \n",
      " 5   start_station_latitude   float64\n",
      " 6   start_station_longitude  float64\n",
      " 7   end_station_id           float64\n",
      " 8   end_station_name         object \n",
      " 9   end_station_latitude     float64\n",
      " 10  end_station_longitude    float64\n",
      " 11  bike_id                  int64  \n",
      " 12  user_type                object \n",
      " 13  member_birth_year        float64\n",
      " 14  member_gender            object \n",
      " 15  bike_share_for_all_trip  object \n",
      "dtypes: float64(7), int64(2), object(7)\n",
      "memory usage: 227.5+ MB\n"
     ]
    }
   ],
   "source": [
    "# features of the dataset\n",
    "df.info()"
   ]
  },
  {
   "cell_type": "markdown",
   "metadata": {},
   "source": [
    "**Observations :** Erroneous datatypes \n",
    "> - `start_time` and `end_time` should be of type datetime\n",
    "> - `start_station_id`, `end_station_id` and `member_birth_year` should be of type int\n",
    "> - `user_type` and `member_gender` should be of type categorical\n",
    "> - `bike_share_for_all_trip` should be of type bool"
   ]
  },
  {
   "cell_type": "code",
   "execution_count": 6,
   "metadata": {},
   "outputs": [
    {
     "data": {
      "text/plain": [
       "duration_sec                    0\n",
       "start_time                      0\n",
       "end_time                        0\n",
       "start_station_id            11771\n",
       "start_station_name          11771\n",
       "start_station_latitude          0\n",
       "start_station_longitude         0\n",
       "end_station_id              11771\n",
       "end_station_name            11771\n",
       "end_station_latitude            0\n",
       "end_station_longitude           0\n",
       "bike_id                         0\n",
       "user_type                       0\n",
       "member_birth_year          110718\n",
       "member_gender              110367\n",
       "bike_share_for_all_trip         0\n",
       "dtype: int64"
      ]
     },
     "execution_count": 6,
     "metadata": {},
     "output_type": "execute_result"
    }
   ],
   "source": [
    "# number of null values in each column\n",
    "df.isna().sum()"
   ]
  },
  {
   "cell_type": "markdown",
   "metadata": {},
   "source": [
    "<a id=\"clean\"></a>\n",
    "\n",
    "## Data Cleaning"
   ]
  },
  {
   "cell_type": "markdown",
   "metadata": {},
   "source": [
    "### Issue 1 : Erroneous datatypes for `start_time` and `end_time`\n",
    "\n",
    "### Define\n",
    "\n",
    "Convert the datatype of `start_time` and `end_time` from string to datetime using pd.to_datetime()\n",
    "    \n",
    "### Code    "
   ]
  },
  {
   "cell_type": "code",
   "execution_count": 7,
   "metadata": {},
   "outputs": [],
   "source": [
    "# convert the data type of start_time and end_time to datetime.\n",
    "df.start_time = pd.to_datetime(df.start_time)\n",
    "df.end_time = pd.to_datetime(df.end_time)"
   ]
  },
  {
   "cell_type": "markdown",
   "metadata": {},
   "source": [
    "### Test"
   ]
  },
  {
   "cell_type": "code",
   "execution_count": 8,
   "metadata": {},
   "outputs": [],
   "source": [
    "# test if the data type of start_time and end_time is datetime.\n",
    "assert type(df.start_time[0]) is pd.Timestamp"
   ]
  },
  {
   "cell_type": "markdown",
   "metadata": {},
   "source": [
    "### Issue 2 : Erroneous datatypes for `start_station_id`,  `end_station_id`  and `member_birth_year`\n",
    "\n",
    "### Define\n",
    "\n",
    "- Check if there is any valid decimals\n",
    "- If not convert the datatype of id's `start_station_id`, `end_station_id` and `member_birth_year` from float64 to int64 using astype()\n",
    "\n",
    "    \n",
    "### Code    "
   ]
  },
  {
   "cell_type": "code",
   "execution_count": 9,
   "metadata": {},
   "outputs": [
    {
     "data": {
      "text/plain": [
       "array([120.,  15., 304.,  75.,  74., 236., 110.,  81., 134., 305.,  98.,\n",
       "        89., 223., 308.,   7.,  67.,  80., 247., 312., 241., 239., 182.,\n",
       "       119., 176., 123., 285., 202., 141., 114.,  30.,  99.,  93.,  44.,\n",
       "        76., 230.,  58.,  41., 144., 183.,  10., 338.,  13., 106., 160.,\n",
       "       146.,  77.,  85., 179., 284.,  14., 274., 201.,   4., 133., 323.,\n",
       "        78., 109.,  21., 240., 108.,  60., 112., 250.,  64.,  88., 171.,\n",
       "       324.,   3., 116., 314., 238., 194.,  37.,  43., 172.,  25., 258.,\n",
       "        63.,  61., 102., 279., 197., 248., 129., 105., 280., 243.,  66.,\n",
       "       122., 115.,  39., 181., 287., 321.,  97.,  29.,  59., 195., 156.,\n",
       "       266.,  20.,  17., 318., 137., 124.,  53., 196.,  79., 162.,  26.,\n",
       "        19.,  22., 327.,   5.,  28.,   6.,  47., 127., 249., 100.,  45.,\n",
       "       113.,  36., 207.,  23., 175., 158., 178., 200., 311., 246., 337.,\n",
       "       259., 294.,  24., 186., 251., 211.,  90.,  27., 177., 267., 316.,\n",
       "        33., 237.,  49., 276.,  31.,  86., 269.,  16., 221., 121.,   9.,\n",
       "       126., 282., 291., 163., 234.,  62., 147.,  84., 210., 245.,  11.,\n",
       "        72., 150.,   8., 180., 254., 204., 130., 148.,  35.,  96., 220.,\n",
       "       313., 244., 198., 132.,  70., 139.,  52., 277., 270., 296., 342.,\n",
       "       149., 275.,  56.,  42., 310., 125., 190.,  95., 152.,  55., 235.,\n",
       "       263., 118., 295., 101., 317., 189., 281., 232.,  34., 215., 288.,\n",
       "       306., 278., 208., 145., 339., 309., 293., 167., 336., 107., 214.,\n",
       "       191., 157.,  71., 153., 154., 297., 212., 206., 188., 268., 169.,\n",
       "       233., 205., 292., 216., 289., 286., 341., 170., 217., 219., 226.,\n",
       "       213., 193., 138., 218., 222., 173.,  18., 231., 140., 340., 265.,\n",
       "       164., 159., 225., 151.,  46., 192., 174., 299., 283., 229., 307.,\n",
       "       227., 209., 228., 290., 224.,  40., 300., 301.,  48., 256., 166.,\n",
       "       272., 298., 252., 203.,  73., 273., 242., 187., 155., 255., 315.,\n",
       "       343., 168., 303., 302.,  50., 345., 271., 344., 349., 350., 253.,\n",
       "        nan, 355.,  92.,  87., 356., 257., 104.,  91., 347., 351., 262.,\n",
       "       357., 364., 363., 365., 367., 136., 372., 358., 362., 359., 360.,\n",
       "       361., 374., 370., 375., 368., 369., 373., 371., 378., 381., 377.,\n",
       "       142., 380.])"
      ]
     },
     "execution_count": 9,
     "metadata": {},
     "output_type": "execute_result"
    }
   ],
   "source": [
    "# Check if there is any valid decimals\n",
    "df.start_station_id.unique()"
   ]
  },
  {
   "cell_type": "code",
   "execution_count": 10,
   "metadata": {},
   "outputs": [
    {
     "data": {
      "text/plain": [
       "array([285.,  15., 296.,  47.,  19., 160., 134.,  93.,   4., 317.,  43.,\n",
       "        86., 297., 186.,  76.,  98.,  78., 274., 157., 244., 183., 189.,\n",
       "       145., 133., 266., 195.,  79.,   6.,  81., 124., 106., 144.,  95.,\n",
       "        59., 159.,  61.,  28., 147., 230.,  42., 200.,   9.,  80.,  58.,\n",
       "        96.,  62.,  26., 233.,  99.,  45., 223., 247.,  84., 123., 120.,\n",
       "         5.,  56.,  36.,  53., 248., 105., 115.,  89., 211., 173., 259.,\n",
       "        49., 205.,  52.,  41.,  60., 194., 278., 284., 250., 196.,  90.,\n",
       "       122.,  85., 210., 119.,  63., 275., 240.,  70., 112., 171.,  44.,\n",
       "        37., 109., 312.,  16.,  74., 121.,  55., 294., 197.,  72., 127.,\n",
       "       130.,   3., 114., 323., 176.,  30.,  71.,  27., 267., 170., 180.,\n",
       "       241., 141., 118., 126., 188.,  33., 216.,  66., 311.,  67., 243.,\n",
       "       269., 158.,  21., 316., 336., 139.,  64.,  25., 100., 238., 102.,\n",
       "        24., 212., 125., 308., 204., 178.,  75.,  10., 214., 150., 167.,\n",
       "       249., 225., 276., 309., 146., 321., 181., 270., 169., 209., 163.,\n",
       "       342., 129., 251., 307.,  23.,  77., 107., 246., 239., 138.,  22.,\n",
       "       182.,  20., 304., 116., 132., 152., 324.,  39., 277.,  29., 222.,\n",
       "        13.,  17.,  88.,  14., 174., 137., 245., 213., 191., 280.,  31.,\n",
       "       175., 151., 215., 140., 190., 231., 108., 314., 234.,  34., 156.,\n",
       "       310., 218., 113., 202., 179., 232., 291., 148., 258., 193., 110.,\n",
       "       305.,   8., 286., 235., 236., 265., 198., 172., 254.,  97., 154.,\n",
       "       318.,  11., 192., 206., 279., 220., 263., 339.,  18.,   7.,  46.,\n",
       "       208., 340., 306., 162., 201., 149., 337., 338., 341., 101., 289.,\n",
       "       177., 295., 281., 288., 219., 237., 153., 313., 268., 327., 293.,\n",
       "       287., 283., 164., 299., 226., 282., 221.,  35., 227., 207., 292.,\n",
       "       290., 228., 224., 229.,  40., 300., 301.,  48., 166., 272., 256.,\n",
       "       217., 298.,  73., 242., 315., 155., 187., 203., 252., 343., 168.,\n",
       "       255., 303., 273., 302.,  50., 345., 271., 344., 350., 349., 356.,\n",
       "        nan, 253.,  92.,  87.,  91., 104., 355., 257., 262., 351., 347.,\n",
       "       357., 363., 364., 365., 367., 362., 372., 136., 359., 358., 360.,\n",
       "       361., 374., 368., 375., 369., 371., 373., 370., 378., 381., 377.,\n",
       "       142., 380.])"
      ]
     },
     "execution_count": 10,
     "metadata": {},
     "output_type": "execute_result"
    }
   ],
   "source": [
    "# Check if there is any valid decimals\n",
    "df.end_station_id.unique()"
   ]
  },
  {
   "cell_type": "code",
   "execution_count": 11,
   "metadata": {},
   "outputs": [
    {
     "data": {
      "text/plain": [
       "array([1986.,   nan, 1996., 1991., 1988., 1980., 1987., 1994., 1993.,\n",
       "       1957., 1976., 1964., 1995., 1997., 1983., 1945., 1971., 1975.,\n",
       "       1978., 1981., 1990., 1970., 1992., 1989., 1982., 1985., 1966.,\n",
       "       1998., 1973., 1979., 1956., 1984., 1911., 1951., 1965., 1963.,\n",
       "       1972., 1969., 1968., 1977., 1959., 1960., 1943., 1958., 1974.,\n",
       "       1999., 1967., 1936., 1954., 1955., 1962., 1961., 1949., 1942.,\n",
       "       1902., 1950., 1947., 1940., 1948., 1952., 1944., 1935., 1953.,\n",
       "       1934., 1900., 1928., 1933., 1924., 1938., 1941., 1946., 1939.,\n",
       "       2000., 1901., 1909., 1904., 1920., 1906., 1889., 1932., 1927.,\n",
       "       1930., 1881., 1914., 1888., 1931., 1903.])"
      ]
     },
     "execution_count": 11,
     "metadata": {},
     "output_type": "execute_result"
    }
   ],
   "source": [
    "# Check if there is any valid decimals\n",
    "df.member_birth_year.unique()"
   ]
  },
  {
   "cell_type": "markdown",
   "metadata": {},
   "source": [
    "> - No valid decimals present\n",
    "> - NaN present"
   ]
  },
  {
   "cell_type": "code",
   "execution_count": 12,
   "metadata": {},
   "outputs": [],
   "source": [
    "# convert the data type of start_station_id, end_station_id and member_birth_year from float64 to int.\n",
    "\n",
    "df.start_station_id = df.start_station_id.astype('Int64')\n",
    "df.end_station_id = df.end_station_id.astype('Int64')\n",
    "df.member_birth_year = df.member_birth_year.astype('Int64')"
   ]
  },
  {
   "cell_type": "markdown",
   "metadata": {},
   "source": [
    "### Test"
   ]
  },
  {
   "cell_type": "code",
   "execution_count": 13,
   "metadata": {},
   "outputs": [],
   "source": [
    "# test if the data type of start_station_id is int.\n",
    "assert type(df.start_station_id[0]) is np.int64"
   ]
  },
  {
   "cell_type": "code",
   "execution_count": 14,
   "metadata": {},
   "outputs": [],
   "source": [
    "# test if the data type of end_station_id is int.\n",
    "assert type(df.end_station_id[0]) is np.int64"
   ]
  },
  {
   "cell_type": "code",
   "execution_count": 15,
   "metadata": {},
   "outputs": [],
   "source": [
    "# test if the data type of member_birth_year is int.\n",
    "assert type(df.member_birth_year[0]) is np.int64"
   ]
  },
  {
   "cell_type": "markdown",
   "metadata": {},
   "source": [
    "### Issue 3 : Erroneous datatypes for `user_type` and `member_gender`\n",
    "\n",
    "### Define\n",
    "\n",
    "Convert the datatype of `user_type` and `member_gender` from string to category using astype()\n",
    "    \n",
    "### Code    "
   ]
  },
  {
   "cell_type": "code",
   "execution_count": 16,
   "metadata": {},
   "outputs": [
    {
     "data": {
      "text/plain": [
       "array(['Subscriber', 'Customer'], dtype=object)"
      ]
     },
     "execution_count": 16,
     "metadata": {},
     "output_type": "execute_result"
    }
   ],
   "source": [
    "# Check the unique values of user_type\n",
    "df.user_type.unique()"
   ]
  },
  {
   "cell_type": "code",
   "execution_count": 17,
   "metadata": {},
   "outputs": [],
   "source": [
    "# Convert the datatype to category\n",
    "df.user_type = df.user_type.astype('category')"
   ]
  },
  {
   "cell_type": "code",
   "execution_count": 18,
   "metadata": {},
   "outputs": [
    {
     "data": {
      "text/plain": [
       "array(['Male', nan, 'Female', 'Other'], dtype=object)"
      ]
     },
     "execution_count": 18,
     "metadata": {},
     "output_type": "execute_result"
    }
   ],
   "source": [
    "# Check the unique values of member_gender\n",
    "df.member_gender.unique()"
   ]
  },
  {
   "cell_type": "code",
   "execution_count": 19,
   "metadata": {},
   "outputs": [
    {
     "data": {
      "text/plain": [
       "Male      1288085\n",
       "Female     438188\n",
       "Other       27081\n",
       "Name: member_gender, dtype: int64"
      ]
     },
     "execution_count": 19,
     "metadata": {},
     "output_type": "execute_result"
    }
   ],
   "source": [
    "# count of each unique values & number of null\n",
    "df.member_gender.value_counts()"
   ]
  },
  {
   "cell_type": "code",
   "execution_count": 20,
   "metadata": {},
   "outputs": [
    {
     "data": {
      "text/plain": [
       "0.059218627680859955"
      ]
     },
     "execution_count": 20,
     "metadata": {},
     "output_type": "execute_result"
    }
   ],
   "source": [
    "# Proportion of values in gender being null\n",
    "df.member_gender.isna().sum() / df.shape[0]"
   ]
  },
  {
   "cell_type": "code",
   "execution_count": 22,
   "metadata": {},
   "outputs": [],
   "source": [
    "# Percentage of null being almost 6%, \n",
    "# fillna with None\n",
    "df.member_gender = df.member_gender.fillna('None')"
   ]
  },
  {
   "cell_type": "code",
   "execution_count": 23,
   "metadata": {},
   "outputs": [
    {
     "data": {
      "image/png": "[encoded data removed]",
      "text/plain": [
       "<Figure size 432x288 with 1 Axes>"
      ]
     },
     "metadata": {
      "needs_background": "light"
     },
     "output_type": "display_data"
    }
   ],
   "source": [
    "# set the base color\n",
    "base_color = sns.color_palette()[0]\n",
    "\n",
    "# plot to see the distribution of the gender\n",
    "sns.countplot(data=df, x='member_gender', color=base_color);"
   ]
  },
  {
   "cell_type": "code",
   "execution_count": 24,
   "metadata": {},
   "outputs": [],
   "source": [
    "# Convert the datatype into category\n",
    "df.member_gender = df.member_gender.astype('category')"
   ]
  },
  {
   "cell_type": "markdown",
   "metadata": {},
   "source": [
    "#### Test"
   ]
  },
  {
   "cell_type": "code",
   "execution_count": 25,
   "metadata": {},
   "outputs": [
    {
     "name": "stdout",
     "output_type": "stream",
     "text": [
      "<class 'pandas.core.frame.DataFrame'>\n",
      "RangeIndex: 1863721 entries, 0 to 1863720\n",
      "Data columns (total 16 columns):\n",
      " #   Column                   Dtype         \n",
      "---  ------                   -----         \n",
      " 0   duration_sec             int64         \n",
      " 1   start_time               datetime64[ns]\n",
      " 2   end_time                 datetime64[ns]\n",
      " 3   start_station_id         Int64         \n",
      " 4   start_station_name       object        \n",
      " 5   start_station_latitude   float64       \n",
      " 6   start_station_longitude  float64       \n",
      " 7   end_station_id           Int64         \n",
      " 8   end_station_name         object        \n",
      " 9   end_station_latitude     float64       \n",
      " 10  end_station_longitude    float64       \n",
      " 11  bike_id                  int64         \n",
      " 12  user_type                category      \n",
      " 13  member_birth_year        Int64         \n",
      " 14  member_gender            category      \n",
      " 15  bike_share_for_all_trip  object        \n",
      "dtypes: Int64(3), category(2), datetime64[ns](2), float64(4), int64(2), object(3)\n",
      "memory usage: 208.0+ MB\n"
     ]
    }
   ],
   "source": [
    "# Test if the data type of user_type and member_gender is category\n",
    "df.info()"
   ]
  },
  {
   "cell_type": "code",
   "execution_count": 26,
   "metadata": {},
   "outputs": [
    {
     "data": {
      "text/plain": [
       "['Male', 'None', 'Female', 'Other']\n",
       "Categories (4, object): ['Male', 'None', 'Female', 'Other']"
      ]
     },
     "execution_count": 26,
     "metadata": {},
     "output_type": "execute_result"
    }
   ],
   "source": [
    "# unique values in member_gender\n",
    "df.member_gender.unique()"
   ]
  },
  {
   "cell_type": "markdown",
   "metadata": {},
   "source": [
    "### Issue 4 : Erroneous datatypes for `bike_share_for_all_trip`\n",
    "\n",
    "### Define\n",
    "\n",
    "Convert the datatype of `bike_share_for_all_trip` from string to bool by changing the values to\n",
    "   - True, if the original value is 'Yes'\n",
    "   - False otherwise\n",
    "    \n",
    "### Code    "
   ]
  },
  {
   "cell_type": "code",
   "execution_count": 27,
   "metadata": {},
   "outputs": [],
   "source": [
    "df.bike_share_for_all_trip = (df.bike_share_for_all_trip == 'Yes')"
   ]
  },
  {
   "cell_type": "markdown",
   "metadata": {},
   "source": [
    "### Test"
   ]
  },
  {
   "cell_type": "code",
   "execution_count": 28,
   "metadata": {},
   "outputs": [],
   "source": [
    "# test if the data type of bike_share_for_all_trip is bool.\n",
    "assert type(df.bike_share_for_all_trip[0]) is np.bool_"
   ]
  },
  {
   "cell_type": "code",
   "execution_count": 29,
   "metadata": {},
   "outputs": [
    {
     "name": "stdout",
     "output_type": "stream",
     "text": [
      "<class 'pandas.core.frame.DataFrame'>\n",
      "RangeIndex: 1863721 entries, 0 to 1863720\n",
      "Data columns (total 16 columns):\n",
      " #   Column                   Dtype         \n",
      "---  ------                   -----         \n",
      " 0   duration_sec             int64         \n",
      " 1   start_time               datetime64[ns]\n",
      " 2   end_time                 datetime64[ns]\n",
      " 3   start_station_id         Int64         \n",
      " 4   start_station_name       object        \n",
      " 5   start_station_latitude   float64       \n",
      " 6   start_station_longitude  float64       \n",
      " 7   end_station_id           Int64         \n",
      " 8   end_station_name         object        \n",
      " 9   end_station_latitude     float64       \n",
      " 10  end_station_longitude    float64       \n",
      " 11  bike_id                  int64         \n",
      " 12  user_type                category      \n",
      " 13  member_birth_year        Int64         \n",
      " 14  member_gender            category      \n",
      " 15  bike_share_for_all_trip  bool          \n",
      "dtypes: Int64(3), bool(1), category(2), datetime64[ns](2), float64(4), int64(2), object(2)\n",
      "memory usage: 195.5+ MB\n"
     ]
    }
   ],
   "source": [
    "df.info()"
   ]
  },
  {
   "cell_type": "markdown",
   "metadata": {},
   "source": [
    "<a id=\"explore\"></a>\n",
    "\n",
    "## Data Exploration"
   ]
  },
  {
   "cell_type": "markdown",
   "metadata": {},
   "source": [
    "### What is the structure of your dataset?\n",
    "\n",
    "> The dataset has **18,63,721** ford gobike trip entries and **16** features like (duration_sec, start_time, end_time, start_station_id, start_station_name, start_station_latitude, start_station_longitude, end_station_id, end_station_name, end_station_latitude, end_station_longitude, bike_id, user_type, member_birth_year, member_gender, bike_share_for_all_trip)\n",
    "\n",
    "> Among 16 specifications, 9 are numerical (int64-2, Int64-3 & float-4), 2 are object type, 2 are datetime, 2 are categorical and 1 is boolean type\n",
    "\n",
    "### What is/are the main feature(s) of interest in your dataset?\n",
    "\n",
    "> The most interested feature in this dataset is `duration_sec`, by how it is dependent on other specifications of the dataset.\n",
    "\n",
    "### What features in the dataset do you think will help support your investigation into your feature(s) of interest?\n",
    "\n",
    "> I expect that the `duration_sec` is highly dependent on,\n",
    "> - `start_station_id` and `end_station_id`, where more crowded areas may have high trip duration.\n",
    "> - Day of the week (`start_time` & `end_time`)\n",
    "> - Hour of the day (`start_time`)\n",
    "> - `user_type`, their age (`member_birth_year`) and gender (`member_gender`)"
   ]
  },
  {
   "cell_type": "markdown",
   "metadata": {},
   "source": [
    "<a id=\"uni\"></a>\n",
    "\n",
    "## Univariate Exploration\n"
   ]
  },
  {
   "cell_type": "code",
   "execution_count": 280,
   "metadata": {},
   "outputs": [],
   "source": [
    "# Choose the first tuple of RGB colors\n",
    "base_color = sns.color_palette()[0]\n",
    "\n",
    "from matplotlib import rcParams\n",
    "# Specify the figure size in inches, for both X, and Y axes\n",
    "rcParams['figure.figsize'] = 9,6"
   ]
  },
  {
   "cell_type": "markdown",
   "metadata": {},
   "source": [
    "**Distribution of Trip duration**\n",
    "\n",
    "\n",
    "Let's see the distribution of the interested feature `duration_sec`"
   ]
  },
  {
   "cell_type": "code",
   "execution_count": 151,
   "metadata": {},
   "outputs": [
    {
     "data": {
      "image/png": "[encoded data removed]",
      "text/plain": [
       "<Figure size 648x432 with 1 Axes>"
      ]
     },
     "metadata": {
      "needs_background": "light"
     },
     "output_type": "display_data"
    }
   ],
   "source": [
    "# set bins\n",
    "bins = np.arange(0, df.duration_sec.max() + 500, 1000)\n",
    "\n",
    "# Plot the distribution of duration_sec\n",
    "plt.hist(data=df, x='duration_sec', bins=bins)\n",
    "\n",
    "# title and labels\n",
    "plt.title('Distribution of Trip duration in seconds')\n",
    "plt.xlabel('Duration in seconds')\n",
    "plt.ylabel('Number of Trips');"
   ]
  },
  {
   "cell_type": "markdown",
   "metadata": {},
   "source": [
    "> - As the distribution almost have the notable values between 0 and 10000 seconds, let's view deeper by changing the bin values."
   ]
  },
  {
   "cell_type": "code",
   "execution_count": 152,
   "metadata": {},
   "outputs": [
    {
     "data": {
      "image/png": "[encoded data removed]",
      "text/plain": [
       "<Figure size 648x432 with 1 Axes>"
      ]
     },
     "metadata": {
      "needs_background": "light"
     },
     "output_type": "display_data"
    }
   ],
   "source": [
    "# set bins\n",
    "bins = np.arange(0, 10000 + 1000, 1000)\n",
    "\n",
    "# Plot the distribution of duration_sec\n",
    "plt.hist(data=df, x='duration_sec', bins=bins)\n",
    "\n",
    "# title and labels\n",
    "plt.title('Distribution of Trip duration in seconds')\n",
    "plt.xlabel('Duration in seconds')\n",
    "plt.ylabel('Number of Trips');"
   ]
  },
  {
   "cell_type": "markdown",
   "metadata": {},
   "source": [
    "> - As the distribution is right skewed, let's view the log scale distribution."
   ]
  },
  {
   "cell_type": "code",
   "execution_count": 135,
   "metadata": {},
   "outputs": [
    {
     "data": {
      "text/plain": [
       "count    1.863721e+06\n",
       "mean     8.573026e+02\n",
       "std      2.370379e+03\n",
       "min      6.100000e+01\n",
       "25%      3.500000e+02\n",
       "50%      5.560000e+02\n",
       "75%      8.720000e+02\n",
       "max      8.636600e+04\n",
       "Name: duration_sec, dtype: float64"
      ]
     },
     "execution_count": 135,
     "metadata": {},
     "output_type": "execute_result"
    }
   ],
   "source": [
    "# describe duration_sec\n",
    "df.describe().duration_sec"
   ]
  },
  {
   "cell_type": "code",
   "execution_count": 136,
   "metadata": {},
   "outputs": [
    {
     "data": {
      "text/plain": [
       "count    6.270381\n",
       "mean     2.933134\n",
       "std      3.374818\n",
       "min      1.785330\n",
       "25%      2.544068\n",
       "50%      2.745075\n",
       "75%      2.940516\n",
       "max      4.936343\n",
       "Name: duration_sec, dtype: float64"
      ]
     },
     "execution_count": 136,
     "metadata": {},
     "output_type": "execute_result"
    }
   ],
   "source": [
    "# Transform the describe() to a scale of log10\n",
    "np.log10(df.describe().duration_sec)"
   ]
  },
  {
   "cell_type": "code",
   "execution_count": 153,
   "metadata": {},
   "outputs": [
    {
     "data": {
      "image/png": "[encoded data removed]",
      "text/plain": [
       "<Figure size 648x432 with 1 Axes>"
      ]
     },
     "metadata": {
      "needs_background": "light"
     },
     "output_type": "display_data"
    }
   ],
   "source": [
    "# set bins\n",
    "log_binsize = 0.05\n",
    "log_bins = 10 ** np.arange(1.5, 5 + log_binsize, log_binsize)\n",
    "\n",
    "# Plot the distribution of duration_sec\n",
    "plt.hist(data=df, x='duration_sec', bins=log_bins)\n",
    "\n",
    "# log scale distribution\n",
    "plt.xscale('log')\n",
    "\n",
    "# set ticks locations for x axis\n",
    "plt.xticks([50, 100, 250, 500, 1e3, 2e3, 5e3, 1e4, 2e4, 3e4], [50, 100, 250, 500, '1k', '2k', '5k', '10k', '20k', '30k'])\n",
    "\n",
    "# title and labels\n",
    "plt.title('Log scale Distribution of Trip duration in seconds')\n",
    "plt.xlabel('Duration in seconds')\n",
    "plt.ylabel('Number of Trips');"
   ]
  },
  {
   "cell_type": "markdown",
   "metadata": {},
   "source": [
    "> - Minimum Trip duration is 61 seconds, while the maximum is 86366 seconds.\n",
    "> - But, Trip duration is mostly concentrated on the spectrum width of 250 - 1500 seconds with peak around 600 seconds. "
   ]
  },
  {
   "cell_type": "markdown",
   "metadata": {},
   "source": [
    "Let's view the distribution of the other features that supports our investigation"
   ]
  },
  {
   "cell_type": "markdown",
   "metadata": {},
   "source": [
    "**Distribution of start station**"
   ]
  },
  {
   "cell_type": "code",
   "execution_count": 202,
   "metadata": {},
   "outputs": [
    {
     "data": {
      "image/png": "[encoded data removed]",
      "text/plain": [
       "<Figure size 1296x432 with 1 Axes>"
      ]
     },
     "metadata": {
      "needs_background": "light"
     },
     "output_type": "display_data"
    }
   ],
   "source": [
    "# set the figure size\n",
    "plt.figure(figsize=(18,6))\n",
    "\n",
    "# set the bins\n",
    "bins = np.arange(0, df.start_station_id.max()+1, 1)\n",
    "\n",
    "# Plot end_station_id distribution\n",
    "plt.hist(data=df.dropna(), x='start_station_id', bins=bins)\n",
    "\n",
    "\n",
    "# set tick names\n",
    "x_ticks = np.arange(0, df.start_station_id.max()+2, 10)\n",
    "plt.xticks(x_ticks)\n",
    "plt.yticks(np.arange(0, 40000+1, 5000), [0, '5k', '10k', '15k', '20k', '25k', '30k', '35k', '40k'])\n",
    "\n",
    "# title and labels\n",
    "plt.title('Distribution of trips starting at Station')\n",
    "plt.xlabel('Start Station ID')\n",
    "plt.ylabel('Number of trips starting');"
   ]
  },
  {
   "cell_type": "markdown",
   "metadata": {},
   "source": [
    "**Distribution of end station**"
   ]
  },
  {
   "cell_type": "code",
   "execution_count": 200,
   "metadata": {},
   "outputs": [
    {
     "data": {
      "image/png": "[encoded data removed]",
      "text/plain": [
       "<Figure size 1296x432 with 1 Axes>"
      ]
     },
     "metadata": {
      "needs_background": "light"
     },
     "output_type": "display_data"
    }
   ],
   "source": [
    "# set the figure size\n",
    "plt.figure(figsize=(18,6))\n",
    "\n",
    "# set the bins\n",
    "bins = np.arange(0, df.end_station_id.max()+1, 1)\n",
    "\n",
    "# Plot end_station_id distribution\n",
    "plt.hist(data=df.dropna(), x='end_station_id', bins=bins)\n",
    "\n",
    "\n",
    "# set tick names\n",
    "x_ticks = np.arange(0, df.end_station_id.max()+2, 10)\n",
    "plt.xticks(x_ticks)\n",
    "plt.yticks(np.arange(0, 50000+1, 5000), [0, '5k', '10k', '15k', '20k', '25k', '30k', '35k', '40k', '45k', '50k'])\n",
    "\n",
    "# title and labels\n",
    "plt.title('Distribution of trips ending at Station')\n",
    "plt.xlabel('End Station ID')\n",
    "plt.ylabel('Number of trips ending');"
   ]
  },
  {
   "cell_type": "markdown",
   "metadata": {},
   "source": [
    "> We can see that the distribution of trips starting and ending at the stations are almost same, indicating that the most used station IDs are below 90"
   ]
  },
  {
   "cell_type": "code",
   "execution_count": 263,
   "metadata": {},
   "outputs": [
    {
     "data": {
      "text/plain": [
       "start_station_id  end_station_id\n",
       "15                6                 7585\n",
       "6                 16                4778\n",
       "81                15                4534\n",
       "196               182               3952\n",
       "6                 15                3795\n",
       "                                    ... \n",
       "28                140                  1\n",
       "91                76                   1\n",
       "28                137                  1\n",
       "201               190                  1\n",
       "142               76                   1\n",
       "Length: 33728, dtype: int64"
      ]
     },
     "execution_count": 263,
     "metadata": {},
     "output_type": "execute_result"
    }
   ],
   "source": [
    "# busiest route\n",
    "df[['start_station_id','end_station_id']].dropna().value_counts()"
   ]
  },
  {
   "cell_type": "markdown",
   "metadata": {},
   "source": [
    "> - The route in which the **highest number of trips** made is from (start_station_id) **15** to (end_station_id) **6**"
   ]
  },
  {
   "cell_type": "markdown",
   "metadata": {},
   "source": [
    "**Distribution of Day of the week**\n",
    "\n",
    "In order to view the distribution of day of the week, let's use `start_time` to find the day of the week.\n",
    "Store it in separate column named `start_day`"
   ]
  },
  {
   "cell_type": "code",
   "execution_count": 293,
   "metadata": {},
   "outputs": [],
   "source": [
    "# create a new column start_day\n",
    "df['start_day'] = df.start_time.dt.dayofweek\n",
    "day_count = df.groupby('start_day').count().start_time\n",
    "\n",
    "# convert the newly created into categorical type\n",
    "df['start_day'] = df['start_day'].astype('category')"
   ]
  },
  {
   "cell_type": "code",
   "execution_count": 294,
   "metadata": {},
   "outputs": [
    {
     "data": {
      "image/png": "[encoded data removed]",
      "text/plain": [
       "<Figure size 648x432 with 1 Axes>"
      ]
     },
     "metadata": {
      "needs_background": "light"
     },
     "output_type": "display_data"
    }
   ],
   "source": [
    "# Plot the day distribution on bar\n",
    "day_count.plot(kind='bar')\n",
    "\n",
    "# get the current tick locations and labels\n",
    "locs, labels = plt.xticks() \n",
    "\n",
    "# loop through each pair of locations and labels\n",
    "for loc, label in zip(locs, labels):\n",
    "\n",
    "    # get the text property for the label to get the correct count\n",
    "    count = day_count[loc]    \n",
    "\n",
    "    # print the annotation just below the top of the bar\n",
    "    plt.text(loc, count+5000, count, ha = 'center', color = 'black')\n",
    "    \n",
    "# title and labels\n",
    "plt.title('Distribution of Trip counts on Day of the Week')\n",
    "plt.xlabel('Day of the Week')\n",
    "\n",
    "labels = ['Mon','Tue','Wed','Thurs','Fri','Sat','Sun']\n",
    "plt.xticks(range(7), labels=labels, rotation=0)\n",
    "\n",
    "# set tick names for y axis\n",
    "plt.yticks(np.arange(0, 400000, 50000), [0, '50k', '100k', '150k', '200k', '250k', '300k', '350k'])\n",
    "\n",
    "plt.ylabel('Number of Trips');"
   ]
  },
  {
   "cell_type": "markdown",
   "metadata": {},
   "source": [
    "> - **Weekdays** have more number of trips than **weekends**\n",
    "> - Especially, the trip count for mid three days of the week (Tue, Wed, Thurs) ranges between 320k and 314k"
   ]
  },
  {
   "cell_type": "markdown",
   "metadata": {},
   "source": [
    "**Distribution of Time of the Day**\n",
    "\n",
    "In order to view the distribution of Time of the Day, let's use `start_time` to find the hour of the day."
   ]
  },
  {
   "cell_type": "code",
   "execution_count": 305,
   "metadata": {},
   "outputs": [],
   "source": [
    "# groupby hour from the start time\n",
    "hour = df.groupby(df.start_time.dt.hour).count().start_time"
   ]
  },
  {
   "cell_type": "code",
   "execution_count": 313,
   "metadata": {},
   "outputs": [
    {
     "data": {
      "image/png": "[encoded data removed]",
      "text/plain": [
       "<Figure size 648x432 with 1 Axes>"
      ]
     },
     "metadata": {
      "needs_background": "light"
     },
     "output_type": "display_data"
    }
   ],
   "source": [
    "# Plot the day distribution on bar\n",
    "hour.plot(kind='bar')\n",
    "    \n",
    "# title and labels\n",
    "plt.title('Distribution of Trip counts based on Hour')\n",
    "plt.xlabel('Hour')\n",
    "plt.xticks(rotation=0)\n",
    "\n",
    "# set tick names for y axis\n",
    "plt.yticks(np.arange(0, 250000, 50000), [0, '50k', '100k', '150k', '200k'])\n",
    "\n",
    "plt.ylabel('Number of Trips');"
   ]
  },
  {
   "cell_type": "markdown",
   "metadata": {},
   "source": [
    "> - We can see that the peak hours are **8am - 9am** and **5pm - 6pm**"
   ]
  },
  {
   "cell_type": "markdown",
   "metadata": {},
   "source": [
    "**Distribution of User type**"
   ]
  },
  {
   "cell_type": "code",
   "execution_count": 169,
   "metadata": {},
   "outputs": [
    {
     "data": {
      "image/png": "[encoded data removed]",
      "text/plain": [
       "<Figure size 648x432 with 1 Axes>"
      ]
     },
     "metadata": {
      "needs_background": "light"
     },
     "output_type": "display_data"
    }
   ],
   "source": [
    "# calculating the type_counts\n",
    "user_type_counts = df['user_type'].value_counts()\n",
    "\n",
    "# Get the unique values of the `user_type` column, in the decreasing order of the frequency.\n",
    "user_type_order = user_type_counts.index\n",
    "\n",
    "# Plot user_type on bar\n",
    "sns.countplot(data=df, x='user_type', color=base_color, order=user_type_order);\n",
    "\n",
    "# get the current tick locations and labels\n",
    "locs, labels = plt.xticks() \n",
    "\n",
    "# loop through each pair of locations and labels\n",
    "for loc, label in zip(locs, labels):\n",
    "\n",
    "    # get the text property for the label to get the correct count\n",
    "    count = user_type_counts[label.get_text()]    \n",
    "\n",
    "    # print the annotation just below the top of the bar\n",
    "    plt.text(loc, count+10000, count, ha = 'center', color = 'black')\n",
    "\n",
    "\n",
    "# set tick names for y axis\n",
    "plt.yticks(np.arange(0, 1800000, 200000), [0, '200k', '400k', '600k', '800k', '1M', '1.2M', '1.4M', '1.6M'])\n",
    "\n",
    "# title and labels\n",
    "plt.title('Distribution of User Type')\n",
    "plt.xlabel('User Type')\n",
    "plt.ylabel('Number of Users');"
   ]
  },
  {
   "cell_type": "markdown",
   "metadata": {},
   "source": [
    "> **Subscribers** have made the more number of trips than **Customer** by **1.3M**, which is a huge difference"
   ]
  },
  {
   "cell_type": "markdown",
   "metadata": {},
   "source": [
    "**Distribution of Gender**"
   ]
  },
  {
   "cell_type": "code",
   "execution_count": 170,
   "metadata": {},
   "outputs": [
    {
     "data": {
      "image/png": "[encoded data removed]",
      "text/plain": [
       "<Figure size 648x432 with 1 Axes>"
      ]
     },
     "metadata": {
      "needs_background": "light"
     },
     "output_type": "display_data"
    }
   ],
   "source": [
    "# calculating the type_counts\n",
    "gender_counts = df['member_gender'].value_counts()\n",
    "\n",
    "# Get the unique values of the `user_type` column, in the decreasing order of the frequency.\n",
    "gender_order = gender_counts.index\n",
    "\n",
    "# Plot member_gender\n",
    "sns.countplot(data=df, x='member_gender', color=base_color, order=gender_order);\n",
    "\n",
    "# get the current tick locations and labels\n",
    "locs, labels = plt.xticks() \n",
    "\n",
    "# loop through each pair of locations and labels\n",
    "for loc, label in zip(locs, labels):\n",
    "\n",
    "    # get the text property for the label to get the correct count\n",
    "    count = gender_counts[label.get_text()]    \n",
    "\n",
    "    # print the annotation just below the top of the bar\n",
    "    plt.text(loc, count+10000, count, ha = 'center', color = 'black')\n",
    "\n",
    "\n",
    "# set tick names for y axis\n",
    "plt.yticks(np.arange(0, 1800000, 200000), [0, '200k', '400k', '600k', '800k', '1M', '1.2M', '1.4M', '1.6M'])\n",
    "\n",
    "# title and labels\n",
    "plt.title('Distribution of Gender')\n",
    "plt.xlabel('Gender')\n",
    "plt.ylabel('Number of Trips');"
   ]
  },
  {
   "cell_type": "markdown",
   "metadata": {},
   "source": [
    "> - **Male** have the highest number of trips, followed by **Female**\n",
    "> - As the percentage of NaN values (replaced as 'None') 5%, included in the plot to view if it makes any impact if it is added to any of the other valid gender type.\n",
    "> - Eventhough, we add the count of 'None' to **Other**, it remians in the last position. Same applies for **Female** being in second position. So, let's drop the null for further investigation"
   ]
  },
  {
   "cell_type": "markdown",
   "metadata": {},
   "source": [
    "**Distribution of User Age**"
   ]
  },
  {
   "cell_type": "code",
   "execution_count": 37,
   "metadata": {},
   "outputs": [],
   "source": [
    "# create age feature based on member_birth_year\n",
    "# the value in age is the age of the members as of 2018. \n",
    "df['age'] = 2018 - df.member_birth_year"
   ]
  },
  {
   "cell_type": "code",
   "execution_count": 173,
   "metadata": {},
   "outputs": [
    {
     "data": {
      "text/plain": [
       "30     102836\n",
       "31      86554\n",
       "29      84830\n",
       "28      81999\n",
       "33      79126\n",
       "        ...  \n",
       "109         4\n",
       "129         3\n",
       "112         2\n",
       "88          1\n",
       "115         1\n",
       "Name: member_birth_year, Length: 86, dtype: Int64"
      ]
     },
     "execution_count": 173,
     "metadata": {},
     "output_type": "execute_result"
    }
   ],
   "source": [
    "df.age.value_counts()"
   ]
  },
  {
   "cell_type": "code",
   "execution_count": 172,
   "metadata": {},
   "outputs": [
    {
     "data": {
      "image/png": "[encoded data removed]",
      "text/plain": [
       "<Figure size 864x576 with 1 Axes>"
      ]
     },
     "metadata": {
      "needs_background": "light"
     },
     "output_type": "display_data"
    }
   ],
   "source": [
    "# set the figure size\n",
    "plt.figure(figsize=(12,8))\n",
    "\n",
    "# Let's plot the age of the users\n",
    "# set bins\n",
    "bins = np.arange(15.5, df.age.max()+1, 1)\n",
    "# create x ticks\n",
    "x_ticks = np.arange(10, df.age.max()+10, 10)\n",
    "\n",
    "# Plot the age group\n",
    "sns.histplot(data=df.dropna(), x = 'age', color=base_color, bins=bins)\n",
    "plt.xticks(x_ticks)\n",
    "plt.title('Distribution of User Age')\n",
    "plt.xlabel('User Age')\n",
    "plt.ylabel('Number of Users');"
   ]
  },
  {
   "cell_type": "markdown",
   "metadata": {},
   "source": [
    "> - We can see that age group of **25-35** have the wide range of spectrum for the number of trips, in which user age of **30** being the peak in number of users having the trip.\n",
    "> - We can also see that there are few small lumps above the age of 80-118"
   ]
  },
  {
   "cell_type": "markdown",
   "metadata": {},
   "source": [
    "### Discuss the distribution(s) of your variable(s) of interest. Were there any unusual points? Did you need to perform any transformations?\n",
    "\n",
    "> - The trip duration in seconds have more concentrated spectrum at low values and it is right skewed.\n",
    "> - In order to understand the distribution, log scale transformation on `duration_sec` is performed.\n",
    "> - I have observed from the log scale transformation, that the trip duration is mostly concentrated on the spectrum width of **250 - 1500** seconds with **peak around 600 seconds**.\n",
    "\n",
    "### Of the features you investigated, were there any unusual distributions? Did you perform any operations on the data to tidy, adjust, or change the form of the data? If so, why did you do this?\n",
    "\n",
    "> **start_station_id** and **end_station_id :**\n",
    "    > - The null values in the mentioned features are dropped.\n",
    "    > - And also plotted in a larger size, as it gives better perception of the insights\n",
    "    \n",
    "> **start_time :**\n",
    "    > - **Day of the week** is calculated from `start_time` and stored in `start_day`, to view how the number of trips is distributed based on day of the week, as it gives better perception of the start_time.\n",
    "    > - **Hour of the day** is also calculated from `start_time`, to view the busy hours of the day.\n",
    " \n",
    "> **member_birth_year :**\n",
    "    > - Dropped the null values from `member_birth_year`, in order to investigate on the feature accurately. \n",
    "    > - `age` is calculated by subtracting the `member_birth_year` from **2018**, as it gives the correct age as of 2018, when the data has been collected.\n",
    "    > - `age` is used to plot across the number of trips, since it gives better insights of the tendency.\n",
    "\n",
    "> **member_gender :**    \n",
    "    > - As the percentage of NaN values (replaced as 'None') is 5% in `member_gender`, included in the plot to view if it makes any impact if it is added to any of the other valid gender type.\n",
    "    > - Eventhough, we add the count of 'None' to **Other**, it remians in the last position. Same applies for **Female** being in second position. So, let's drop the null for further investigation.       "
   ]
  },
  {
   "cell_type": "markdown",
   "metadata": {},
   "source": [
    "<a id=\"bi\"></a>\n",
    "\n",
    "## Bivariate Exploration\n",
    "\n",
    "> In this section, investigate relationships between pairs of variables in your\n",
    "data. Make sure the variables that you cover here have been introduced in some\n",
    "fashion in the previous section (univariate exploration)."
   ]
  },
  {
   "cell_type": "code",
   "execution_count": 425,
   "metadata": {},
   "outputs": [
    {
     "data": {
      "image/png": "[encoded data removed]",
      "text/plain": [
       "<Figure size 648x432 with 1 Axes>"
      ]
     },
     "metadata": {
      "needs_background": "light"
     },
     "output_type": "display_data"
    }
   ],
   "source": [
    "# box plot between day of the week and trip duration\n",
    "#plt.scatter(data=df.dropna(), x='start_day', y='duration_sec', alpha=0.25, marker='.');\n",
    "data = df.dropna()\n",
    "sns.boxplot(data = df, x = 'start_day', y = 'duration_sec',color=base_color);\n",
    "\n",
    "# set ticks\n",
    "labels = ['Mon','Tue','Wed','Thurs','Fri','Sat','Sun']\n",
    "plt.xticks(range(7), labels=labels, rotation=0)\n",
    "#plt.yticks(np.arange(0, df.duration_sec.max()+10000, 10000),[0,'10k','20k','30k','40k','50k','60k','70k','80k','90k'])\n",
    "\n",
    "# labels and title\n",
    "plt.xlabel('Day of the Week')\n",
    "plt.ylabel('Trip Duration in seconds')\n",
    "plt.title('Relationship between Day of the Week and Trip duration');"
   ]
  },
  {
   "cell_type": "markdown",
   "metadata": {},
   "source": [
    "As the duration is very wide spread, let's trim the range to 3k seconds"
   ]
  },
  {
   "cell_type": "code",
   "execution_count": 426,
   "metadata": {},
   "outputs": [
    {
     "data": {
      "image/png": "[encoded data removed]",
      "text/plain": [
       "<Figure size 648x432 with 1 Axes>"
      ]
     },
     "metadata": {
      "needs_background": "light"
     },
     "output_type": "display_data"
    }
   ],
   "source": [
    "sns.boxplot(data = df, x = 'start_day', y = 'duration_sec',color=base_color);\n",
    "\n",
    "# set ticks\n",
    "labels = ['Mon','Tue','Wed','Thurs','Fri','Sat','Sun']\n",
    "plt.xticks(range(7), labels=labels, rotation=0)\n",
    "plt.yticks(np.arange(0, 3000+1, 500),[0,500,'1k','1.5k','2k','2.5k','3k'])\n",
    "# set y limit\n",
    "plt.ylim(-100,2500)\n",
    "\n",
    "# labels and title\n",
    "plt.xlabel('Day of the Week')\n",
    "plt.ylabel('Trip Duration in seconds')\n",
    "plt.title('Relationship between Day of the Week and Trip duration');"
   ]
  },
  {
   "cell_type": "markdown",
   "metadata": {},
   "source": [
    "> **Note :** Eventhough the number of trips are greater for **weekdays**, the duration in seconds is greater for **weekends**"
   ]
  },
  {
   "cell_type": "code",
   "execution_count": 365,
   "metadata": {},
   "outputs": [
    {
     "data": {
      "image/png": "[encoded data removed]",
      "text/plain": [
       "<Figure size 648x432 with 1 Axes>"
      ]
     },
     "metadata": {
      "needs_background": "light"
     },
     "output_type": "display_data"
    }
   ],
   "source": [
    "# box plot between user type and trip duration\n",
    "sns.boxplot(data = df, x = 'user_type', y = 'duration_sec',color=base_color);\n",
    "\n",
    "# set ticks\n",
    "plt.yticks(np.arange(0, df.duration_sec.max()+10000, 10000),[0,'10k','20k','30k','40k','50k','60k','70k','80k','90k'])\n",
    "\n",
    "# labels and title\n",
    "plt.xlabel('User Type')\n",
    "plt.ylabel('Trip Duration in seconds')\n",
    "plt.title('Relationship between User Type and Trip duration');"
   ]
  },
  {
   "cell_type": "markdown",
   "metadata": {},
   "source": [
    "As the duration is very wide spread, let's trim the range to 3k seconds"
   ]
  },
  {
   "cell_type": "code",
   "execution_count": 366,
   "metadata": {},
   "outputs": [
    {
     "data": {
      "image/png": "[encoded data removed]",
      "text/plain": [
       "<Figure size 648x432 with 1 Axes>"
      ]
     },
     "metadata": {
      "needs_background": "light"
     },
     "output_type": "display_data"
    }
   ],
   "source": [
    "sns.boxplot(data = df, x = 'user_type', y = 'duration_sec',color=base_color);\n",
    "\n",
    "# set ticks\n",
    "plt.yticks(np.arange(0, 3000+1, 500),[0,500,'1k','1.5k','2k','2.5k','3k'])\n",
    "# set y limit\n",
    "plt.ylim(-100,3000)\n",
    "\n",
    "# labels and title\n",
    "plt.xlabel('User Type')\n",
    "plt.ylabel('Trip Duration in seconds')\n",
    "plt.title('Relationship between User Type and Trip duration');"
   ]
  },
  {
   "cell_type": "markdown",
   "metadata": {},
   "source": [
    "> **Note :** Eventhough the number of trips are greater for **Subscriber**, the duration in seconds is greater for **Customer**"
   ]
  },
  {
   "cell_type": "code",
   "execution_count": 367,
   "metadata": {},
   "outputs": [
    {
     "data": {
      "image/png": "[encoded data removed]",
      "text/plain": [
       "<Figure size 648x432 with 1 Axes>"
      ]
     },
     "metadata": {
      "needs_background": "light"
     },
     "output_type": "display_data"
    }
   ],
   "source": [
    "# box plot between gender and trip duration\n",
    "sns.boxplot(data = df, x = 'member_gender', y = 'duration_sec',color=base_color);\n",
    "\n",
    "# set ticks\n",
    "plt.yticks(np.arange(0, df.duration_sec.max()+10000, 10000),[0,'10k','20k','30k','40k','50k','60k','70k','80k','90k'])\n",
    "\n",
    "# labels and title\n",
    "plt.xlabel('Gender')\n",
    "plt.ylabel('Trip Duration in seconds')\n",
    "plt.title('Relationship between Gender and Trip duration');"
   ]
  },
  {
   "cell_type": "markdown",
   "metadata": {},
   "source": [
    "As the duration is very wide spread, let's trim the range to 3k seconds"
   ]
  },
  {
   "cell_type": "code",
   "execution_count": 370,
   "metadata": {},
   "outputs": [
    {
     "data": {
      "image/png": "[encoded data removed]",
      "text/plain": [
       "<Figure size 648x432 with 1 Axes>"
      ]
     },
     "metadata": {
      "needs_background": "light"
     },
     "output_type": "display_data"
    }
   ],
   "source": [
    "# box plot between gender and trip duration\n",
    "sns.boxplot(data = df, x = 'member_gender', y = 'duration_sec',color=base_color);\n",
    "\n",
    "# set ticks\n",
    "plt.yticks(np.arange(0, 3000+1, 500),[0,500,'1k','1.5k','2k','2.5k','3k'])\n",
    "# set y limit\n",
    "plt.ylim(-100,3000)\n",
    "\n",
    "# labels and title\n",
    "plt.xlabel('Gender')\n",
    "plt.ylabel('Trip Duration in seconds')\n",
    "plt.title('Relationship between Gender and Trip duration');"
   ]
  },
  {
   "cell_type": "markdown",
   "metadata": {},
   "source": [
    "> **Note :** The order of number of trips following were, \n",
    "    > - Male > Female > None(Null) > Other\n",
    "\n",
    "> But, the order in trip duration is different as,\n",
    "    > - None(Null) > Female > Other > Male\n",
    "    \n",
    "> The null values indicated that there was no information about the user. This may be due to they have used the service for one time long trip.  "
   ]
  },
  {
   "cell_type": "markdown",
   "metadata": {},
   "source": [
    "So, let's view the relationship between gender, user type and trip duration"
   ]
  },
  {
   "cell_type": "code",
   "execution_count": 409,
   "metadata": {},
   "outputs": [
    {
     "data": {
      "text/html": [
       "<div>\n",
       "<style scoped>\n",
       "    .dataframe tbody tr th:only-of-type {\n",
       "        vertical-align: middle;\n",
       "    }\n",
       "\n",
       "    .dataframe tbody tr th {\n",
       "        vertical-align: top;\n",
       "    }\n",
       "\n",
       "    .dataframe thead th {\n",
       "        text-align: right;\n",
       "    }\n",
       "</style>\n",
       "<table border=\"1\" class=\"dataframe\">\n",
       "  <thead>\n",
       "    <tr style=\"text-align: right;\">\n",
       "      <th></th>\n",
       "      <th>member_gender</th>\n",
       "      <th>user_type</th>\n",
       "      <th>duration_sec</th>\n",
       "    </tr>\n",
       "  </thead>\n",
       "  <tbody>\n",
       "    <tr>\n",
       "      <th>0</th>\n",
       "      <td>Female</td>\n",
       "      <td>Customer</td>\n",
       "      <td>1813.352085</td>\n",
       "    </tr>\n",
       "    <tr>\n",
       "      <th>1</th>\n",
       "      <td>Female</td>\n",
       "      <td>Subscriber</td>\n",
       "      <td>745.722174</td>\n",
       "    </tr>\n",
       "    <tr>\n",
       "      <th>2</th>\n",
       "      <td>Male</td>\n",
       "      <td>Customer</td>\n",
       "      <td>1517.395389</td>\n",
       "    </tr>\n",
       "    <tr>\n",
       "      <th>3</th>\n",
       "      <td>Male</td>\n",
       "      <td>Subscriber</td>\n",
       "      <td>642.729725</td>\n",
       "    </tr>\n",
       "    <tr>\n",
       "      <th>4</th>\n",
       "      <td>None</td>\n",
       "      <td>Customer</td>\n",
       "      <td>2729.019532</td>\n",
       "    </tr>\n",
       "    <tr>\n",
       "      <th>5</th>\n",
       "      <td>None</td>\n",
       "      <td>Subscriber</td>\n",
       "      <td>655.072525</td>\n",
       "    </tr>\n",
       "    <tr>\n",
       "      <th>6</th>\n",
       "      <td>Other</td>\n",
       "      <td>Customer</td>\n",
       "      <td>1567.928624</td>\n",
       "    </tr>\n",
       "    <tr>\n",
       "      <th>7</th>\n",
       "      <td>Other</td>\n",
       "      <td>Subscriber</td>\n",
       "      <td>744.602653</td>\n",
       "    </tr>\n",
       "  </tbody>\n",
       "</table>\n",
       "</div>"
      ],
      "text/plain": [
       "  member_gender   user_type  duration_sec\n",
       "0        Female    Customer   1813.352085\n",
       "1        Female  Subscriber    745.722174\n",
       "2          Male    Customer   1517.395389\n",
       "3          Male  Subscriber    642.729725\n",
       "4          None    Customer   2729.019532\n",
       "5          None  Subscriber    655.072525\n",
       "6         Other    Customer   1567.928624\n",
       "7         Other  Subscriber    744.602653"
      ]
     },
     "execution_count": 409,
     "metadata": {},
     "output_type": "execute_result"
    }
   ],
   "source": [
    "# group by member_gender and user_type by mean\n",
    "gender_user = df.groupby(['member_gender','user_type']).mean().duration_sec.reset_index()\n",
    "gender_user"
   ]
  },
  {
   "cell_type": "code",
   "execution_count": 411,
   "metadata": {},
   "outputs": [
    {
     "data": {
      "text/html": [
       "<div>\n",
       "<style scoped>\n",
       "    .dataframe tbody tr th:only-of-type {\n",
       "        vertical-align: middle;\n",
       "    }\n",
       "\n",
       "    .dataframe tbody tr th {\n",
       "        vertical-align: top;\n",
       "    }\n",
       "\n",
       "    .dataframe thead th {\n",
       "        text-align: right;\n",
       "    }\n",
       "</style>\n",
       "<table border=\"1\" class=\"dataframe\">\n",
       "  <thead>\n",
       "    <tr style=\"text-align: right;\">\n",
       "      <th>user_type</th>\n",
       "      <th>Customer</th>\n",
       "      <th>Subscriber</th>\n",
       "    </tr>\n",
       "    <tr>\n",
       "      <th>member_gender</th>\n",
       "      <th></th>\n",
       "      <th></th>\n",
       "    </tr>\n",
       "  </thead>\n",
       "  <tbody>\n",
       "    <tr>\n",
       "      <th>Female</th>\n",
       "      <td>1813.352085</td>\n",
       "      <td>745.722174</td>\n",
       "    </tr>\n",
       "    <tr>\n",
       "      <th>Male</th>\n",
       "      <td>1517.395389</td>\n",
       "      <td>642.729725</td>\n",
       "    </tr>\n",
       "    <tr>\n",
       "      <th>None</th>\n",
       "      <td>2729.019532</td>\n",
       "      <td>655.072525</td>\n",
       "    </tr>\n",
       "    <tr>\n",
       "      <th>Other</th>\n",
       "      <td>1567.928624</td>\n",
       "      <td>744.602653</td>\n",
       "    </tr>\n",
       "  </tbody>\n",
       "</table>\n",
       "</div>"
      ],
      "text/plain": [
       "user_type         Customer  Subscriber\n",
       "member_gender                         \n",
       "Female         1813.352085  745.722174\n",
       "Male           1517.395389  642.729725\n",
       "None           2729.019532  655.072525\n",
       "Other          1567.928624  744.602653"
      ]
     },
     "execution_count": 411,
     "metadata": {},
     "output_type": "execute_result"
    }
   ],
   "source": [
    "# create pivot of group by in previous step\n",
    "gender_user_pivot = gender_user.pivot(index='member_gender', columns='user_type', values='duration_sec')\n",
    "gender_user_pivot"
   ]
  },
  {
   "cell_type": "code",
   "execution_count": 424,
   "metadata": {},
   "outputs": [
    {
     "data": {
      "image/png": "[encoded data removed]",
      "text/plain": [
       "<Figure size 1080x432 with 3 Axes>"
      ]
     },
     "metadata": {
      "needs_background": "light"
     },
     "output_type": "display_data"
    }
   ],
   "source": [
    "# Plot bar plot and heat map\n",
    "# set the figure size\n",
    "plt.figure(figsize=(15,6))\n",
    "\n",
    "# Overall title\n",
    "plt.suptitle('Relationship between Gender, differentiated into user type and Trip duration by average')\n",
    "\n",
    "# bar plot\n",
    "plt.subplot(1,2,1)\n",
    "sns.barplot(data=gender_user, x='member_gender', y='duration_sec', hue='user_type')\n",
    "# set ticks\n",
    "plt.yticks(np.arange(0, 3000+1, 500),[0,500,'1k','1.5k','2k','2.5k','3k'])\n",
    "\n",
    "# labels and title\n",
    "plt.xlabel('Gender')\n",
    "plt.ylabel('Trip Duration in seconds')\n",
    "plt.title('Bar plot')\n",
    "\n",
    "# Heat Map\n",
    "plt.subplot(1,2,2)\n",
    "sns.heatmap(gender_user_pivot, annot = True, fmt = '.0f')\n",
    "# labels and title\n",
    "plt.xlabel('Gender')\n",
    "plt.ylabel('Trip Duration in seconds')\n",
    "plt.title('Heat Map');"
   ]
  },
  {
   "cell_type": "markdown",
   "metadata": {},
   "source": [
    "So, on which day of the  week these user types makes trip most?"
   ]
  },
  {
   "cell_type": "code",
   "execution_count": 427,
   "metadata": {},
   "outputs": [
    {
     "data": {
      "text/html": [
       "<div>\n",
       "<style scoped>\n",
       "    .dataframe tbody tr th:only-of-type {\n",
       "        vertical-align: middle;\n",
       "    }\n",
       "\n",
       "    .dataframe tbody tr th {\n",
       "        vertical-align: top;\n",
       "    }\n",
       "\n",
       "    .dataframe thead th {\n",
       "        text-align: right;\n",
       "    }\n",
       "</style>\n",
       "<table border=\"1\" class=\"dataframe\">\n",
       "  <thead>\n",
       "    <tr style=\"text-align: right;\">\n",
       "      <th></th>\n",
       "      <th>start_day</th>\n",
       "      <th>user_type</th>\n",
       "      <th>duration_sec</th>\n",
       "    </tr>\n",
       "  </thead>\n",
       "  <tbody>\n",
       "    <tr>\n",
       "      <th>0</th>\n",
       "      <td>0</td>\n",
       "      <td>Customer</td>\n",
       "      <td>1812.418051</td>\n",
       "    </tr>\n",
       "    <tr>\n",
       "      <th>1</th>\n",
       "      <td>0</td>\n",
       "      <td>Subscriber</td>\n",
       "      <td>649.281327</td>\n",
       "    </tr>\n",
       "    <tr>\n",
       "      <th>2</th>\n",
       "      <td>1</td>\n",
       "      <td>Customer</td>\n",
       "      <td>1741.751018</td>\n",
       "    </tr>\n",
       "    <tr>\n",
       "      <th>3</th>\n",
       "      <td>1</td>\n",
       "      <td>Subscriber</td>\n",
       "      <td>646.466792</td>\n",
       "    </tr>\n",
       "    <tr>\n",
       "      <th>4</th>\n",
       "      <td>2</td>\n",
       "      <td>Customer</td>\n",
       "      <td>1679.128262</td>\n",
       "    </tr>\n",
       "    <tr>\n",
       "      <th>5</th>\n",
       "      <td>2</td>\n",
       "      <td>Subscriber</td>\n",
       "      <td>653.545687</td>\n",
       "    </tr>\n",
       "    <tr>\n",
       "      <th>6</th>\n",
       "      <td>3</td>\n",
       "      <td>Customer</td>\n",
       "      <td>1697.941757</td>\n",
       "    </tr>\n",
       "    <tr>\n",
       "      <th>7</th>\n",
       "      <td>3</td>\n",
       "      <td>Subscriber</td>\n",
       "      <td>654.428544</td>\n",
       "    </tr>\n",
       "    <tr>\n",
       "      <th>8</th>\n",
       "      <td>4</td>\n",
       "      <td>Customer</td>\n",
       "      <td>1823.354723</td>\n",
       "    </tr>\n",
       "    <tr>\n",
       "      <th>9</th>\n",
       "      <td>4</td>\n",
       "      <td>Subscriber</td>\n",
       "      <td>659.286750</td>\n",
       "    </tr>\n",
       "    <tr>\n",
       "      <th>10</th>\n",
       "      <td>5</td>\n",
       "      <td>Customer</td>\n",
       "      <td>2211.215665</td>\n",
       "    </tr>\n",
       "    <tr>\n",
       "      <th>11</th>\n",
       "      <td>5</td>\n",
       "      <td>Subscriber</td>\n",
       "      <td>763.424840</td>\n",
       "    </tr>\n",
       "    <tr>\n",
       "      <th>12</th>\n",
       "      <td>6</td>\n",
       "      <td>Customer</td>\n",
       "      <td>2273.867817</td>\n",
       "    </tr>\n",
       "    <tr>\n",
       "      <th>13</th>\n",
       "      <td>6</td>\n",
       "      <td>Subscriber</td>\n",
       "      <td>765.511244</td>\n",
       "    </tr>\n",
       "  </tbody>\n",
       "</table>\n",
       "</div>"
      ],
      "text/plain": [
       "   start_day   user_type  duration_sec\n",
       "0          0    Customer   1812.418051\n",
       "1          0  Subscriber    649.281327\n",
       "2          1    Customer   1741.751018\n",
       "3          1  Subscriber    646.466792\n",
       "4          2    Customer   1679.128262\n",
       "5          2  Subscriber    653.545687\n",
       "6          3    Customer   1697.941757\n",
       "7          3  Subscriber    654.428544\n",
       "8          4    Customer   1823.354723\n",
       "9          4  Subscriber    659.286750\n",
       "10         5    Customer   2211.215665\n",
       "11         5  Subscriber    763.424840\n",
       "12         6    Customer   2273.867817\n",
       "13         6  Subscriber    765.511244"
      ]
     },
     "execution_count": 427,
     "metadata": {},
     "output_type": "execute_result"
    }
   ],
   "source": [
    "# group by day of the week and user_type by mean\n",
    "day_user = df.groupby(['start_day','user_type']).mean().duration_sec.reset_index()\n",
    "day_user"
   ]
  },
  {
   "cell_type": "code",
   "execution_count": 429,
   "metadata": {},
   "outputs": [
    {
     "data": {
      "text/html": [
       "<div>\n",
       "<style scoped>\n",
       "    .dataframe tbody tr th:only-of-type {\n",
       "        vertical-align: middle;\n",
       "    }\n",
       "\n",
       "    .dataframe tbody tr th {\n",
       "        vertical-align: top;\n",
       "    }\n",
       "\n",
       "    .dataframe thead th {\n",
       "        text-align: right;\n",
       "    }\n",
       "</style>\n",
       "<table border=\"1\" class=\"dataframe\">\n",
       "  <thead>\n",
       "    <tr style=\"text-align: right;\">\n",
       "      <th>user_type</th>\n",
       "      <th>Customer</th>\n",
       "      <th>Subscriber</th>\n",
       "    </tr>\n",
       "    <tr>\n",
       "      <th>start_day</th>\n",
       "      <th></th>\n",
       "      <th></th>\n",
       "    </tr>\n",
       "  </thead>\n",
       "  <tbody>\n",
       "    <tr>\n",
       "      <th>0</th>\n",
       "      <td>1812.418051</td>\n",
       "      <td>649.281327</td>\n",
       "    </tr>\n",
       "    <tr>\n",
       "      <th>1</th>\n",
       "      <td>1741.751018</td>\n",
       "      <td>646.466792</td>\n",
       "    </tr>\n",
       "    <tr>\n",
       "      <th>2</th>\n",
       "      <td>1679.128262</td>\n",
       "      <td>653.545687</td>\n",
       "    </tr>\n",
       "    <tr>\n",
       "      <th>3</th>\n",
       "      <td>1697.941757</td>\n",
       "      <td>654.428544</td>\n",
       "    </tr>\n",
       "    <tr>\n",
       "      <th>4</th>\n",
       "      <td>1823.354723</td>\n",
       "      <td>659.286750</td>\n",
       "    </tr>\n",
       "    <tr>\n",
       "      <th>5</th>\n",
       "      <td>2211.215665</td>\n",
       "      <td>763.424840</td>\n",
       "    </tr>\n",
       "    <tr>\n",
       "      <th>6</th>\n",
       "      <td>2273.867817</td>\n",
       "      <td>765.511244</td>\n",
       "    </tr>\n",
       "  </tbody>\n",
       "</table>\n",
       "</div>"
      ],
      "text/plain": [
       "user_type     Customer  Subscriber\n",
       "start_day                         \n",
       "0          1812.418051  649.281327\n",
       "1          1741.751018  646.466792\n",
       "2          1679.128262  653.545687\n",
       "3          1697.941757  654.428544\n",
       "4          1823.354723  659.286750\n",
       "5          2211.215665  763.424840\n",
       "6          2273.867817  765.511244"
      ]
     },
     "execution_count": 429,
     "metadata": {},
     "output_type": "execute_result"
    }
   ],
   "source": [
    "# create pivot\n",
    "day_user_pivot = day_user.pivot(index='start_day', columns='user_type', values='duration_sec')\n",
    "day_user_pivot"
   ]
  },
  {
   "cell_type": "code",
   "execution_count": 434,
   "metadata": {},
   "outputs": [
    {
     "data": {
      "image/png": "[encoded data removed]",
      "text/plain": [
       "<Figure size 1080x432 with 3 Axes>"
      ]
     },
     "metadata": {
      "needs_background": "light"
     },
     "output_type": "display_data"
    }
   ],
   "source": [
    "# Plot bar plot and heat map\n",
    "# set the figure size\n",
    "plt.figure(figsize=(15,6))\n",
    "\n",
    "# Overall title\n",
    "plt.suptitle('Relationship between day of the week, differentiated into user type and Trip duration by average')\n",
    "\n",
    "# bar plot\n",
    "plt.subplot(1,2,1)\n",
    "sns.barplot(data=day_user, x='start_day', y='duration_sec', hue='user_type')\n",
    "# set ticks\n",
    "labels = ['Mon','Tue','Wed','Thurs','Fri','Sat','Sun']\n",
    "plt.xticks(range(7), labels=labels, rotation=0)\n",
    "\n",
    "# labels and title\n",
    "plt.xlabel('Day of the week')\n",
    "plt.ylabel('Trip Duration in seconds')\n",
    "plt.title('Bar plot')\n",
    "\n",
    "# Heat Map\n",
    "plt.subplot(1,2,2)\n",
    "sns.heatmap(day_user_pivot, annot = True, fmt = '.0f')\n",
    "# set ticks\n",
    "labels = ['Mon','Tue','Wed','Thurs','Fri','Sat','Sun']\n",
    "plt.yticks(np.arange(0.5, 7.5, 1), labels=labels, rotation=0)\n",
    "# labels and title\n",
    "plt.xlabel('Day of the week')\n",
    "plt.ylabel('Trip Duration in seconds')\n",
    "plt.title('Heat Map');"
   ]
  },
  {
   "cell_type": "code",
   "execution_count": 437,
   "metadata": {},
   "outputs": [],
   "source": [
    "# group by day of the week and gender by mean\n",
    "day_gender = df.groupby(['start_day','member_gender']).mean().duration_sec.reset_index()"
   ]
  },
  {
   "cell_type": "code",
   "execution_count": 439,
   "metadata": {},
   "outputs": [
    {
     "data": {
      "image/png": "[encoded data removed]",
      "text/plain": [
       "<Figure size 648x432 with 1 Axes>"
      ]
     },
     "metadata": {
      "needs_background": "light"
     },
     "output_type": "display_data"
    }
   ],
   "source": [
    "# set the figure size\n",
    "#plt.figure(figsize=(15,6))\n",
    "\n",
    "# bar plot\n",
    "sns.barplot(data=day_gender, x='start_day', y='duration_sec', hue='member_gender')\n",
    "# set ticks\n",
    "labels = ['Mon','Tue','Wed','Thurs','Fri','Sat','Sun']\n",
    "plt.xticks(range(7), labels=labels, rotation=0)\n",
    "\n",
    "# labels and title\n",
    "plt.xlabel('Day of the week')\n",
    "plt.ylabel('Trip Duration in seconds')\n",
    "plt.title('Bar plot');"
   ]
  },
  {
   "cell_type": "code",
   "execution_count": 331,
   "metadata": {},
   "outputs": [
    {
     "data": {
      "image/png": "[encoded data removed]",
      "text/plain": [
       "<Figure size 648x432 with 1 Axes>"
      ]
     },
     "metadata": {
      "needs_background": "light"
     },
     "output_type": "display_data"
    }
   ],
   "source": [
    "# scatter plot between user age and trip duration\n",
    "plt.scatter(data=df.dropna(), x='age', y='duration_sec', alpha=0.25, marker='.');\n",
    "\n",
    "# set ticks\n",
    "plt.xticks(np.arange(0, df.age.max()+10, 10))\n",
    "plt.yticks(np.arange(0, df.duration_sec.max()+10000, 10000),[0,'10k','20k','30k','40k','50k','60k','70k','80k','90k'])\n",
    "\n",
    "# labels and title\n",
    "plt.xlabel('Age in Years')\n",
    "plt.ylabel('Trip Duration in seconds')\n",
    "plt.title('Relationship between User Age and Trip duration');"
   ]
  },
  {
   "cell_type": "markdown",
   "metadata": {},
   "source": [
    "### Talk about some of the relationships you observed in this part of the investigation. How did the feature(s) of interest vary with other features in the dataset?\n",
    "\n",
    "> Your answer here!\n",
    "\n",
    "### Did you observe any interesting relationships between the other features (not the main feature(s) of interest)?\n",
    "\n",
    "> Your answer here!"
   ]
  },
  {
   "cell_type": "markdown",
   "metadata": {},
   "source": [
    "<a id=\"multi\"></a>\n",
    "\n",
    "## Multivariate Exploration\n",
    "\n",
    "> Create plots of three or more variables to investigate your data even\n",
    "further. Make sure that your investigations are justified, and follow from\n",
    "your work in the previous sections."
   ]
  },
  {
   "cell_type": "code",
   "execution_count": null,
   "metadata": {},
   "outputs": [],
   "source": []
  },
  {
   "cell_type": "markdown",
   "metadata": {},
   "source": [
    "### Talk about some of the relationships you observed in this part of the investigation. Were there features that strengthened each other in terms of looking at your feature(s) of interest?\n",
    "\n",
    "> Your answer here!\n",
    "\n",
    "### Were there any interesting or surprising interactions between features?\n",
    "\n",
    "> Your answer here!"
   ]
  },
  {
   "cell_type": "markdown",
   "metadata": {},
   "source": [
    "> At the end of your report, make sure that you export the notebook as an\n",
    "html file from the `File > Download as... > HTML` menu. Make sure you keep\n",
    "track of where the exported file goes, so you can put it in the same folder\n",
    "as this notebook for project submission. Also, make sure you remove all of\n",
    "the quote-formatted guide notes like this one before you finish your report!"
   ]
  },
  {
   "cell_type": "code",
   "execution_count": null,
   "metadata": {},
   "outputs": [],
   "source": []
  }
 ],
 "metadata": {
  "kernelspec": {
   "display_name": "Python 3",
   "language": "python",
   "name": "python3"
  },
  "language_info": {
   "codemirror_mode": {
    "name": "ipython",
    "version": 3
   },
   "file_extension": ".py",
   "mimetype": "text/x-python",
   "name": "python",
   "nbconvert_exporter": "python",
   "pygments_lexer": "ipython3",
   "version": "3.8.8"
  }
 },
 "nbformat": 4,
 "nbformat_minor": 2
}
